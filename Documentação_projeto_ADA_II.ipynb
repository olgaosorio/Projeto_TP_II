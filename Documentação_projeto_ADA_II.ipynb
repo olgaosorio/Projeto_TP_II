{
 "cells": [
  {
   "cell_type": "markdown",
   "id": "e86427e0",
   "metadata": {},
   "source": [
    "Este código realiza uma série de análises com base nos dados dos participantes do **ENEM 2021**. Ele carrega o arquivo CSV contendo os microdados do exame e realiza várias operações, desde o carregamento eficiente dos dados até a análise de desempenho por gênero, estado, tipo de escola, e outras variáveis.\n",
    "\n",
    "Importação de Módulos e Inicialização\n",
    "\n",
    "- O código começa importando os módulos pandas (para manipulação de dados) e os (para operações relacionadas ao sistema de arquivos). Em seguida, imprime uma mensagem indicando que o script foi iniciado."
   ]
  },
  {
   "cell_type": "code",
   "execution_count": null,
   "id": "50d8a6d0",
   "metadata": {
    "vscode": {
     "languageId": "plaintext"
    }
   },
   "outputs": [],
   "source": [
    "import pandas as pd\n",
    "import os\n",
    "\n",
    "print(\"Script iniciado\")"
   ]
  },
  {
   "cell_type": "markdown",
   "id": "83abd216",
   "metadata": {},
   "source": [
    "Definição de Colunas e Verificação de Arquivo\n",
    "\n",
    "- As colunas necessárias são definidas para serem carregadas do arquivo do ENEM.\n",
    "- 'caminho_arquivo' guarda o caminho do arquivo CSV.\n",
    "- 'os.path.exists' verifica se o arquivo existe. Caso não exista, exibe uma mensagem de erro; caso contrário, o script segue."
   ]
  },
  {
   "cell_type": "code",
   "execution_count": null,
   "id": "05bb7e71",
   "metadata": {
    "vscode": {
     "languageId": "plaintext"
    }
   },
   "outputs": [],
   "source": [
    "colunas_necessarias = ['TP_SEXO', 'NU_NOTA_REDACAO', 'SG_UF_PROVA', 'TP_ESCOLA', \n",
    "                       'TP_ST_CONCLUSAO', 'NU_NOTA_MT', 'NU_NOTA_CN', 'NU_NOTA_CH', \n",
    "                       'NU_NOTA_LC', 'TP_FAIXA_ETARIA']\n",
    "\n",
    "caminho_arquivo = os.path.join('MICRODADOS_ENEM_2021.csv')\n",
    "\n",
    "if not os.path.exists(caminho_arquivo):\n",
    "    print(f\"O arquivo não foi encontrado em: {caminho_arquivo}\")\n",
    "else:"
   ]
  },
  {
   "cell_type": "markdown",
   "id": "4b8d4b04",
   "metadata": {},
   "source": [
    "Carregamento do Arquivo CSV\n",
    "\n",
    "- O CSV é carregado em pedaços (chunks) de 100.000 linhas por vez para economizar memória.\n",
    "- 'pd.concat' combina esses pedaços em um único dataframe.\n",
    "- Em caso de erro, como arquivo não encontrado ou erro de leitura, são exibidas mensagens de erro adequadas."
   ]
  },
  {
   "cell_type": "code",
   "execution_count": null,
   "id": "0426c95c",
   "metadata": {
    "vscode": {
     "languageId": "plaintext"
    }
   },
   "outputs": [],
   "source": [
    "try:\n",
    "    chunksize = 100000\n",
    "    df_chunks = pd.read_csv(caminho_arquivo, sep=';', encoding='ISO-8859-1', \n",
    "                            usecols=colunas_necessarias, chunksize=chunksize)\n",
    "\n",
    "    df = pd.concat(df_chunks)\n",
    "\n",
    "    print(\"Arquivo carregado com sucesso\")\n",
    "except ...:\n",
    "    # Tratamento de erros"
   ]
  },
  {
   "cell_type": "markdown",
   "id": "56294e92",
   "metadata": {},
   "source": [
    "Contagem e Percentual de Participantes por Gênero\n",
    "\n",
    "- Conta quantos participantes existem para cada gênero usando 'value_counts()'.\n",
    "- Calcula o percentual de participantes de cada gênero em relação ao total."
   ]
  },
  {
   "cell_type": "code",
   "execution_count": null,
   "id": "80f751c8",
   "metadata": {
    "vscode": {
     "languageId": "plaintext"
    }
   },
   "outputs": [],
   "source": [
    "conteo_sexo = df['TP_SEXO'].value_counts()\n",
    "total_participantes = len(df)\n",
    "percentual_sexo = (conteo_sexo / total_participantes) * 100"
   ]
  },
  {
   "cell_type": "markdown",
   "id": "2fdb0304",
   "metadata": {},
   "source": [
    "Média das Notas de Redação por Gênero\n",
    "\n",
    "- Agrupa os participantes por gênero (TP_SEXO) e calcula a média da nota de redação de cada grupo."
   ]
  },
  {
   "cell_type": "code",
   "execution_count": null,
   "id": "638ba1d8",
   "metadata": {
    "vscode": {
     "languageId": "plaintext"
    }
   },
   "outputs": [],
   "source": [
    "media_redacao_por_genero = df.groupby('TP_SEXO')['NU_NOTA_REDACAO'].mean()"
   ]
  },
  {
   "cell_type": "markdown",
   "id": "a879c768",
   "metadata": {},
   "source": [
    "Estado com a Maior Nota de Redação\n",
    "\n",
    "- Agrupa os dados por estado (SG_UF_PROVA) e calcula a nota de redação mais alta em cada estado.\n",
    "- Depois identifica qual estado teve a nota mais alta."
   ]
  },
  {
   "cell_type": "code",
   "execution_count": null,
   "id": "6e77bf90",
   "metadata": {
    "vscode": {
     "languageId": "plaintext"
    }
   },
   "outputs": [],
   "source": [
    "estado_mais_alta_nota = df.groupby('SG_UF_PROVA')['NU_NOTA_REDACAO'].max()\n",
    "estado_max_nota = estado_mais_alta_nota.idxmax()\n",
    "nota_max = estado_mais_alta_nota.max()"
   ]
  },
  {
   "cell_type": "markdown",
   "id": "5324a410",
   "metadata": {},
   "source": [
    "Desempenho Médio de Redação por Tipo de Escola\n",
    "\n",
    "- Calcula a média das notas de redação por tipo de escola (TP_ESCOLA), como pública ou privada."
   ]
  },
  {
   "cell_type": "code",
   "execution_count": null,
   "id": "ef3e860a",
   "metadata": {
    "vscode": {
     "languageId": "plaintext"
    }
   },
   "outputs": [],
   "source": [
    "desempenho_escola = df.groupby('TP_ESCOLA')['NU_NOTA_REDACAO'].mean()"
   ]
  },
  {
   "cell_type": "markdown",
   "id": "4cef160d",
   "metadata": {},
   "source": [
    "Estatísticas das Notas por Estado\n",
    "\n",
    "- Calcula a média, desvio padrão e mediana das notas de redação, matemática, ciências, etc., agrupando por estado."
   ]
  },
  {
   "cell_type": "code",
   "execution_count": null,
   "id": "236a81b5",
   "metadata": {
    "vscode": {
     "languageId": "plaintext"
    }
   },
   "outputs": [],
   "source": [
    "colunas_notas = ['NU_NOTA_REDACAO', 'NU_NOTA_MT', 'NU_NOTA_CN', 'NU_NOTA_CH', 'NU_NOTA_LC']\n",
    "estatisticas_estado = df.groupby('SG_UF_PROVA').agg({col: ['mean', 'std', 'median'] for col in colunas_notas})"
   ]
  },
  {
   "cell_type": "markdown",
   "id": "5fe17bf8",
   "metadata": {},
   "source": [
    "Desempenho Médio por Status de Conclusão do Ensino Médio\n",
    "\n",
    "- Mapeia os códigos de status de conclusão (TP_ST_CONCLUSAO) para descrições mais legíveis.\n",
    "- Calcula a média de notas de redação para cada grupo de status."
   ]
  },
  {
   "cell_type": "code",
   "execution_count": null,
   "id": "ea757f34",
   "metadata": {
    "vscode": {
     "languageId": "plaintext"
    }
   },
   "outputs": [],
   "source": [
    "dict_conclusao = {1: 'Já concluí o Ensino Médio', 2: ..., 4: ...}\n",
    "df['TP_ST_CONCLUSAO'] = df['TP_ST_CONCLUSAO'].map(dict_conclusao)\n",
    "\n",
    "desempenho_conclusao = df.groupby('TP_ST_CONCLUSAO')['NU_NOTA_REDACAO'].mean()"
   ]
  },
  {
   "cell_type": "markdown",
   "id": "140a8394",
   "metadata": {},
   "source": [
    "Diferença Percentual de Desempenho\n",
    "\n",
    "- Calcula a diferença percentual entre a média de quem já concluiu o ensino médio e quem ainda não concluiu."
   ]
  },
  {
   "cell_type": "code",
   "execution_count": null,
   "id": "bfa39aed",
   "metadata": {
    "vscode": {
     "languageId": "plaintext"
    }
   },
   "outputs": [],
   "source": [
    "if media_nao_concluido == 0:\n",
    "    percentual_diferenca = float('inf')\n",
    "else:\n",
    "    percentual_diferenca = ((media_concluido - media_nao_concluido) / media_nao_concluido) * 100"
   ]
  },
  {
   "cell_type": "markdown",
   "id": "d3af31e8",
   "metadata": {},
   "source": [
    "Desempenho por Faixa Etária\n",
    "\n",
    "- Mapeia as faixas etárias para descrições amigáveis e agrupa as faixas em intervalos de 10 anos.\n",
    "- Calcula a média das notas de redação para cada faixa etária."
   ]
  },
  {
   "cell_type": "code",
   "execution_count": null,
   "id": "e0faeea3",
   "metadata": {
    "vscode": {
     "languageId": "plaintext"
    }
   },
   "outputs": [],
   "source": [
    "df['TP_FAIXA_ETARIA'] = df['TP_FAIXA_ETARIA'].map(dicionario_faixas)\n",
    "desempenho_faixa_etaria_agrupada = df.groupby('FAIXA_ETARIA_AGRUPADA')['NU_NOTA_REDACAO'].mean()"
   ]
  },
  {
   "cell_type": "markdown",
   "id": "85d81a18",
   "metadata": {},
   "source": [
    "Finalização\n",
    "\n",
    "- O script exibe uma mensagem indicando que o processamento foi concluído."
   ]
  },
  {
   "cell_type": "code",
   "execution_count": null,
   "id": "16a9583f",
   "metadata": {
    "vscode": {
     "languageId": "plaintext"
    }
   },
   "outputs": [],
   "source": [
    "print(\"Script finalizado\")"
   ]
  }
 ],
 "metadata": {
  "kernelspec": {
   "display_name": "Python 3 (ipykernel)",
   "language": "python",
   "name": "python3"
  },
  "language_info": {
   "codemirror_mode": {
    "name": "ipython",
    "version": 3
   },
   "file_extension": ".py",
   "mimetype": "text/x-python",
   "name": "python",
   "nbconvert_exporter": "python",
   "pygments_lexer": "ipython3",
   "version": "3.10.2"
  },
  "latex_envs": {
   "LaTeX_envs_menu_present": true,
   "autoclose": false,
   "autocomplete": true,
   "bibliofile": "biblio.bib",
   "cite_by": "apalike",
   "current_citInitial": 1,
   "eqLabelWithNumbers": true,
   "eqNumInitial": 1,
   "hotkeys": {
    "equation": "Ctrl-E",
    "itemize": "Ctrl-I"
   },
   "labels_anchors": false,
   "latex_user_defs": false,
   "report_style_numbering": false,
   "user_envs_cfg": false
  },
  "toc": {
   "base_numbering": 1,
   "nav_menu": {},
   "number_sections": true,
   "sideBar": true,
   "skip_h1_title": false,
   "title_cell": "Table of Contents",
   "title_sidebar": "Contents",
   "toc_cell": false,
   "toc_position": {},
   "toc_section_display": true,
   "toc_window_display": false
  },
  "varInspector": {
   "cols": {
    "lenName": 16,
    "lenType": 16,
    "lenVar": 40
   },
   "kernels_config": {
    "python": {
     "delete_cmd_postfix": "",
     "delete_cmd_prefix": "del ",
     "library": "var_list.py",
     "varRefreshCmd": "print(var_dic_list())"
    },
    "r": {
     "delete_cmd_postfix": ") ",
     "delete_cmd_prefix": "rm(",
     "library": "var_list.r",
     "varRefreshCmd": "cat(var_dic_list()) "
    }
   },
   "types_to_exclude": [
    "module",
    "function",
    "builtin_function_or_method",
    "instance",
    "_Feature"
   ],
   "window_display": false
  }
 },
 "nbformat": 4,
 "nbformat_minor": 5
}
