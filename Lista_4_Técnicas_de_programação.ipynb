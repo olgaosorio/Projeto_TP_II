{
  "cells": [
    {
      "cell_type": "markdown",
      "metadata": {
        "id": "view-in-github",
        "colab_type": "text"
      },
      "source": [
        "<a href=\"https://colab.research.google.com/github/olgaosorio/Projeto_TP_II/blob/main/Lista_4_T%C3%A9cnicas_de_programa%C3%A7%C3%A3o.ipynb\" target=\"_parent\"><img src=\"https://colab.research.google.com/assets/colab-badge.svg\" alt=\"Open In Colab\"/></a>"
      ]
    },
    {
      "cell_type": "markdown",
      "metadata": {
        "id": "dDhJSUbSE6hI"
      },
      "source": [
        "## Lista 4 - Técnicas de Programação.\n",
        "\n",
        "\n"
      ]
    },
    {
      "cell_type": "markdown",
      "metadata": {
        "id": "eX5x6-bjE6hN"
      },
      "source": [
        "## Questão 1\n",
        "\n",
        "##Cálculo da Imagem Integral de uma Matriz de Pixels Utilizando NumPy em Processamento de Imagens\n",
        "\n",
        "Você é um cientista de dados de uma empresa de tecnologia que está desenvolvendo um algoritmo de detecção de bordas em imagens digitais. Para implementar o algoritmo, é necessário calcular a imagem integral da imagem original.\n",
        "\n",
        "Imagem integral é um conceito muito utilizado no processamento de imagens para acelerar o cálculo de operações como filtros, detecção de bordas e reconhecimento de objetos. Ela consiste em uma matriz que armazena a soma acumulada dos pixels de uma imagem em todas as posições à esquerda e acima de um determinado pixel. Dessa forma, o valor de um determinado retângulo na imagem pode ser calculado em tempo constante, independente do tamanho do retângulo. A imagem integral é amplamente utilizada em aplicações de visão computacional, como detecção de faces e análise de objetos em tempo real.\n",
        "\n",
        "A equação matemática que define a imagem integral é:\n",
        "\n",
        "\n",
        "\n",
        "\n",
        "Alt \\mathrm{I}(x,y) = \\sum_{i=0}^{x}\\sum_{j=0}^{y} \\mathrm{img}(i,j)\n",
        "\n",
        "Onde I(x,y) é o valor da imagem integral na posição (x,y) e img(x,y) é o valor da imagem original na mesma posição. A imagem integral é usada em processamento de imagens para calcular a soma dos pixels em uma região retangular da imagem de forma eficiente.\n",
        "\n",
        "Escreva uma função chamada \"calcula_imagem_integral\" que recebe como entrada uma matriz numpy e retorna outra matriz numpy com a imagem integral correspondente.\n",
        "\n",
        "Assinatura da função: calcula_imagem_integral(imagem: np.ndarray) -> np.ndarray"
      ]
    },
    {
      "cell_type": "code",
      "execution_count": 10,
      "metadata": {
        "id": "kYKS_ae1E6hP"
      },
      "outputs": [],
      "source": [
        "import numpy as np\n",
        "\n",
        "def calcula_imagem_integral(imagem: np.ndarray) -> np.ndarray:\n",
        "    imagem_integral = np.zeros_like(imagem, dtype=np.int32)\n",
        "\n",
        "    for i in range(imagem.shape[0]):\n",
        "        for j in range(imagem.shape[1]):\n",
        "            imagem_integral[i, j] = imagem[i, j]\n",
        "            if i > 0:\n",
        "                imagem_integral[i, j] += imagem_integral[i - 1, j]\n",
        "            if j > 0:\n",
        "                imagem_integral[i, j] += imagem_integral[i, j - 1]\n",
        "            if i > 0 and j > 0:\n",
        "                imagem_integral[i, j] -= imagem_integral[i - 1, j - 1]\n",
        "\n",
        "    return imagem_integral"
      ]
    },
    {
      "cell_type": "markdown",
      "metadata": {
        "id": "CRZdfzLgE6hU"
      },
      "source": [
        "## Questão 2\n",
        "\n",
        "Análise de transações financeiras com NumPy\n",
        "A biblioteca NumPy é uma ferramenta amplamente utilizada na área financeira para a análise de grandes conjuntos de dados, principalmente na detecção de fraudes bancárias. Como analista de dados de uma instituição financeira, você foi designado para analisar transações financeiras a fim de identificar possíveis fraudes. A instituição coleta os dados das transações realizadas e armazena-os em arrays NumPy. Escreva uma função chamada analisa_transacoes, que recebe como entrada um array NumPy de valores de transações e retorna um array NumPy do tipo float64 com as seguintes medidas estatísticas:\n",
        "\n",
        "Média;\n",
        "Desvio padrão;\n",
        "Valor mínimo;\n",
        "Valor máximo;\n",
        "Mediana;\n",
        "Quartis 25% e 75%.\n",
        "Com essas medidas estatísticas, a instituição poderá identificar possíveis padrões e anomalias nos dados das transações, que podem ser sinais de atividades fraudulentas.\n",
        "\n",
        "Dica: Utilize as funções disponíveis no NumPy para calcular cada medida estatística.\n"
      ]
    },
    {
      "cell_type": "code",
      "execution_count": null,
      "metadata": {
        "id": "DzF02aVSm8Vy"
      },
      "outputs": [],
      "source": [
        "import numpy as np\n",
        "\n",
        "def analisa_transacoes(transacoes: np.ndarray) -> np.ndarray:\n",
        "\n",
        "    media = np.mean(transacoes)\n",
        "    desvio_padrao = np.std(transacoes)\n",
        "    valor_minimo = np.min(transacoes)\n",
        "    valor_maximo = np.max(transacoes)\n",
        "    mediana = np.median(transacoes)\n",
        "    quartil_25 = np.percentile(transacoes, 25)\n",
        "    quartil_75 = np.percentile(transacoes, 75)\n",
        "\n",
        "    return np.array([media, desvio_padrao, valor_minimo, valor_maximo, mediana, quartil_25, quartil_75], dtype=np.float64)"
      ]
    },
    {
      "cell_type": "markdown",
      "metadata": {
        "id": "Wh0_a8PjE6hc"
      },
      "source": [
        "## Questão 3\n",
        "\n",
        "Cálculo do Índice de Massa Corporal (IMC) em um Dataframe\n",
        "Você é um nutricionista e precisa criar uma ferramenta para calcular o Índice de Massa Corporal (IMC) de seus pacientes. Para isso, você pode utilizar a biblioteca Pandas do Python. Ela é uma biblioteca Python de código aberto que fornece ferramentas de análise e manipulação de dados de forma rápida e eficiente. O Pandas permite trabalhar com dados em formato de tabela, chamados de DataFrames, com colunas de tipos diferentes, além de oferecer funcionalidades para indexação, agregação, seleção, filtragem e visualização dos dados. Com essa biblioteca, é possível realizar tarefas de limpeza, transformação e modelagem de dados, sendo uma ferramenta muito útil em áreas como ciência de dados, finanças, economia, entre outras.\n",
        "\n",
        "Escreva uma função chamada calcula_imc que receba um DataFrame pandas contendo as informações de nome, idade, sexo, altura e peso de um paciente, calcule o IMC e adicione uma nova coluna no DataFrame contendo o resultado do cálculo. Em seguida, a função deve retornar o DataFrame modificado.\n",
        "\n",
        "A fórmula para calcular o IMC:\n",
        "\n",
        "Alt IMC = \\frac{peso}{altura^{2}}\n",
        "\n",
        "Assinatura da função: calcula_imc(df: pd.DataFrame) -> pd.DataFrame\n"
      ]
    },
    {
      "cell_type": "code",
      "execution_count": 11,
      "metadata": {
        "id": "w4d14JRZE6hr"
      },
      "outputs": [],
      "source": [
        "import pandas as pd\n",
        "\n",
        "def calcula_imc(df: pd.DataFrame) -> pd.DataFrame:\n",
        "\n",
        "    df['IMC'] = df['Peso'] / (df['Altura'] ** 2)\n",
        "    return df\n",
        "\n"
      ]
    },
    {
      "cell_type": "markdown",
      "metadata": {
        "id": "U1CntgkZE6hc"
      },
      "source": [
        "## Questão 4\n",
        "## Detecção de Valores Atípicos com Desvio Padrão.\n",
        "\n",
        "Criação de DataFrame Pandas para Apoio a Planejamento de Dieta\n",
        "Suponha que você esteja desenvolvendo um sistema para apoio a planejamento de dieta, que tem como objetivo auxiliar as pessoas a atingirem seus objetivos de saúde por meio de uma alimentação equilibrada. Uma das funcionalidades desse sistema é o registro das informações pessoais dos usuários, tais como nome, idade, sexo, altura e peso.\n",
        "\n",
        "Para armazenar essas informações, você pode utilizar a biblioteca pandas do Python, que permite trabalhar com tabelas de dados (DataFrames). Pandas é uma biblioteca Python de código aberto que fornece ferramentas de análise e manipulação de dados de forma rápida e eficiente. O Pandas permite trabalhar com dados em formato de tabela, chamados de DataFrames, com colunas de tipos diferentes, além de oferecer funcionalidades para indexação, agregação, seleção, filtragem e visualização dos dados. Com essa biblioteca, é possível realizar tarefas de limpeza, transformação e modelagem de dados, sendo uma ferramenta muito útil em áreas como ciência de dados, finanças, economia, entre outras.\n",
        "\n",
        "Crie uma função chamada cria_dataframe que receba uma lista contendo as informações de nome, idade, sexo, altura e peso de\n",
        "n\n",
        "n pessoas e retorne um DataFrame com essas informações.\n",
        "\n",
        "Assinatura da função: cria_dataframe(lista: list) -> pd.DataFrame\n"
      ]
    },
    {
      "cell_type": "code",
      "execution_count": null,
      "metadata": {
        "id": "OlxjvCnQE6hj"
      },
      "outputs": [],
      "source": [
        "import pandas as pd\n",
        "\n",
        "def cria_dataframe(lista: list) -> pd.DataFrame:\n",
        "\n",
        "    colunas = [\"Nome\", \"Idade\", \"Sexo\", \"Altura\", \"Peso\"]\n",
        "\n",
        "    df = pd.DataFrame(lista, columns=colunas)\n",
        "\n",
        "    return df"
      ]
    },
    {
      "cell_type": "markdown",
      "metadata": {
        "id": "qHh149eAE6hd"
      },
      "source": [
        "## Questão 5\n",
        "\n",
        "Cálculo da soma dos elementos de cada coluna em uma matriz usando NumPy\n",
        "O processamento digital de imagens é uma área que utiliza técnicas computacionais para processar e analisar imagens digitais. Uma das bibliotecas utilizadas nessa área é o NumPy, uma biblioteca Python que permite trabalhar com matrizes multidimensionais e oferece diversas funções e operações matemáticas.\n",
        "\n",
        "Suponha que você seja um desenvolvedor de software de processamento digital de imagens e foi designado para criar uma função que calcule a soma dos elementos de cada coluna de uma matriz de entrada. A matriz de entrada pode ter qualquer tamanho e é armazenada como um array NumPy.\n",
        "\n",
        "Assinatura da função: soma_colunas(matriz: np.ndarray) -> np.ndarray\n"
      ]
    },
    {
      "cell_type": "code",
      "source": [
        "import numpy as np\n",
        "\n",
        "def soma_colunas(matriz: np.ndarray) -> np.ndarray:\n",
        "\n",
        "    soma = np.sum(matriz, axis=0)\n",
        "    return soma"
      ],
      "metadata": {
        "id": "Fl02u3yTuCdx"
      },
      "execution_count": null,
      "outputs": []
    },
    {
      "cell_type": "markdown",
      "metadata": {
        "id": "7Gy6nTwQE6hj"
      },
      "source": [
        "## Questão 6\n",
        "\n",
        "Concatenação de Arrays Numpy para Análise de Vendas em Diferentes Regiões\n",
        "Você é um analista de dados em uma empresa de vendas online e recebeu uma tarefa para analisar as vendas de um determinado produto em diferentes regiões do país. As informações de vendas são armazenadas em dois arrays numpy, um com as vendas da região Sul e outro com as vendas da região Norte. O numpy é uma biblioteca do Python utilizada para trabalhar com matrizes e arrays multidimensionais de forma eficiente, que oferece diversas funções e operações para facilitar a manipulação desses objetos. Uma das vantagens do numpy em relação às listas do Python é a velocidade e eficiência nas operações com arrays. Você precisa concatenar os dois arrays para ter uma visão geral das vendas do produto em todo o país. Para isso, você vai criar uma função chamada concatena_array, que recebe como argumentos dois arrays do tipo numpy e retorna um único array do tipo numpy concatenando os dois.\n"
      ]
    },
    {
      "cell_type": "code",
      "execution_count": null,
      "metadata": {
        "id": "AdTkst5UE6hq"
      },
      "outputs": [],
      "source": [
        "import numpy as np\n",
        "\n",
        "def concatena_array(array1: np.ndarray, array2: np.ndarray) -> np.ndarray:\n",
        "\n",
        "    resultado = np.concatenate((array1, array2))\n",
        "    return resultado"
      ]
    },
    {
      "cell_type": "markdown",
      "metadata": {
        "id": "upNDn96PE6hq"
      },
      "source": [
        "## Questão 7\n",
        "Criação de uma Matriz Identidade Usando NumPy\n",
        "No processamento digital de imagens, é comum utilizar matrizes para representar imagens e aplicar operações matemáticas sobre elas. Uma operação comum é a multiplicação de uma matriz por um escalar, que pode ser usado para ajustar o brilho ou a intensidade de cores de uma imagem. O NumPy é uma biblioteca do Python que permite trabalhar com matrizes multidimensionais e oferece diversas funções e operações matemáticas.\n",
        "\n",
        "Nesse contexto, crie uma função chamada cria_matriz_identidade que receba dois parâmetros: o tamanho da matriz (n) e o fator de multiplicação (m). A função deve retornar uma matriz identidade de tamanho n x n multiplicada pelo fator m, representada como um array numpy.\n",
        "\n",
        "Assinatura da função: cria_matriz_identidade(n:int, m:float) -> np.ndarray\n"
      ]
    },
    {
      "cell_type": "code",
      "execution_count": null,
      "metadata": {
        "id": "MYpySePjE6hs"
      },
      "outputs": [],
      "source": [
        "import numpy as np\n",
        "\n",
        "def cria_matriz_identidade(n: int, m: float) -> np.ndarray:\n",
        "\n",
        "    matriz_identidade = np.eye(n)\n",
        "    matriz_resultado = matriz_identidade * m\n",
        "    return matriz_resultado"
      ]
    },
    {
      "cell_type": "markdown",
      "metadata": {
        "id": "SchEY1O7E6hr"
      },
      "source": [
        "## Questão 8\n",
        "\n",
        "Média de Avaliações de Jogos Eletrônicos Usando Numpy\n",
        "Você é um analista de dados em uma empresa de jogos eletrônicos e recebeu uma tarefa para analisar as notas de avaliação de jogos de um banco de dados. As notas de avaliação são armazenadas em um array numpy, uma biblioteca do Python que permite trabalhar com matrizes multidimensionais e oferece diversas funções e operações matemáticas. Uma das vantagens do numpy em relação às listas é que as operações em arrays são mais eficientes computacionalmente, permitindo lidar com grandes quantidades de dados de forma mais rápida. Você precisa calcular a média das notas para ter uma ideia da satisfação dos jogadores com os jogos. Para isso, você vai criar uma função chamada media_avaliacao, que recebe como argumento um array do tipo numpy e retorna um único valor float com a média.\n",
        "\n"
      ]
    },
    {
      "cell_type": "code",
      "execution_count": null,
      "metadata": {
        "id": "yfho2bziAlfJ"
      },
      "outputs": [],
      "source": [
        "import numpy as np\n",
        "\n",
        "def media_avaliacao(avaliacoes: np.ndarray) -> float:\n",
        "    media = np.mean(avaliacoes)\n",
        "    return media"
      ]
    }
  ],
  "metadata": {
    "colab": {
      "provenance": [],
      "include_colab_link": true
    },
    "kernelspec": {
      "display_name": "SUZANO-TECPROG1",
      "language": "python",
      "name": "python3"
    },
    "language_info": {
      "codemirror_mode": {
        "name": "ipython",
        "version": 3
      },
      "file_extension": ".py",
      "mimetype": "text/x-python",
      "name": "python",
      "nbconvert_exporter": "python",
      "pygments_lexer": "ipython3",
      "version": "3.10.6"
    },
    "orig_nbformat": 4,
    "vscode": {
      "interpreter": {
        "hash": "38d4061a99e7c6638a090ce08c14a66640e6088dc5ef74a7f33c8fdd952ca81d"
      }
    }
  },
  "nbformat": 4,
  "nbformat_minor": 0
}